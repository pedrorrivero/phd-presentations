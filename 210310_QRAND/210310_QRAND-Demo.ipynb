{
 "cells": [
  {
   "cell_type": "markdown",
   "metadata": {},
   "source": [
    "# qrand\n",
    "\n",
    "> A quantum random number generator for arbitrary probability distributions\n"
   ]
  },
  {
   "cell_type": "code",
   "execution_count": 1,
   "metadata": {
    "scrolled": true
   },
   "outputs": [],
   "source": [
    "!pip install -q qrand\n",
    "!pip install -q matplotlib"
   ]
  },
  {
   "cell_type": "markdown",
   "metadata": {},
   "source": [
    "[![Unitary Fund](https://img.shields.io/badge/Supported_By-UNITARY_FUND-FFF000.svg?style=flat)](http://unitary.fund)\n",
    "\n",
    "[![YouTube](https://img.shields.io/badge/PR-qrand-FF0000.svg?style=flat&logo=YouTube&logoColor=white)](https://youtu.be/CG7BxuWFpME)\n",
    "\n",
    "[![PyPI](https://img.shields.io/pypi/v/qrand?label=PyPI&style=flat&color=3776AB&logo=Python&logoColor=white)](https://pypi.org/project/qrand/)\n",
    "\n",
    "[![Coverage](https://img.shields.io/badge/Coverage-97%25-green.svg?style=flat)](http://pytest.org)\n",
    "\n",
    "[![Apache-2.0 License](https://img.shields.io/github/license/pedrorrivero/qrand?label=License&style=flat&color=1D1D1D)](https://github.com/pedrorrivero/qrand/blob/master/LICENSE)\n"
   ]
  },
  {
   "cell_type": "markdown",
   "metadata": {},
   "source": [
    "Random numbers are everywhere.\n",
    "\n",
    "Computer algorithms, data encryption, physical simulations, and even the arts use them all the time. There is one problem though: it turns out that they are actually very difficult to produce in large amounts. Classical computers can only implement mathematical tricks to emulate randomness, while measuring it out of physical processes turns out to be too slow.\n",
    "\n",
    "Luckily, the probabilistic nature of quantum computers makes these devices particularly useful for the task. Nonetheless, most of the current efforts in producing quantum random numbers have been focused on uniform probability distributions. Despite this fact, many applications actually need to sample from more complex distributions (e.g. gaussian, poisson).\n",
    "\n",
    "This software introduces an interface layer between [NumPy](https://numpy.org/) and [Qiskit](https://qiskit.org/), along with some useful functionality that enables the production of quantum random numbers (QRN) for a wide variety of probability distributions. This is ultimately accomplished by transforming uniform probability distributions produced in IBMQ's quantum devices, through NumPy's random module."
   ]
  },
  {
   "cell_type": "code",
   "execution_count": 2,
   "metadata": {},
   "outputs": [],
   "source": [
    "from qrand import QiskitBitGenerator, Qrng\n",
    "from numpy.random import Generator\n",
    "from qiskit import IBMQ"
   ]
  },
  {
   "cell_type": "markdown",
   "metadata": {},
   "source": [
    "## QiskitBitGenerator\n",
    "A quantum random bit-generator based on Qiskit, which can interface with NumPy's random module (e.g. to instantiate Generator objects). It implements an efficient strategy to retrieve random bits from IBMQ's quantum backends.\n",
    "\n",
    "On each request to a backend, it retrieves as many bits as possible and stores them in a cache. This way, the number of internet connections leading to overheads is greatly reduced and, while the cache is loaded, random bits can be retrieved \"instantaneously\". The user can limit the number of bits to retrieve on each request through the `max_bits_per_request` argument.\n",
    "\n",
    "Additionally, it always chooses the least busy backend from the list of available machines. This list can be filtered by the user through the `backend_filter` argument, which defaults to history-enabled non-simulators. If a Qiskit Backend is explicitly passed in as argument, no backend selection will be performed: effectively ignoring any Qiskit Provider object passed. If neither `provider` nor `backend` are passed as inputs, it will default to running Qiskit BasicAer's 'qasm_simulator' locally.\n",
    "\n",
    "### CLASS ARGUMENTS\n",
    "- **provider**: *Optional[Provider] = None* <br/>\n",
    "  A Qiskit Provider object to access quantum backends. If `None` it defaults to BasicAer.\n",
    "- **backend**: *Optional[Backend] = None* <br/>\n",
    "  A Qiskit Backend object to produce random bits. If not `None`, `provider` will be ignored.\n",
    "- **backend_filter**: *Optional[BackendFilter] = None* <br/>\n",
    "  A Callable that takes in a Qiskit Backend object and returns `True` if it meets certain requirements, `False` otherwise. This is used to filter the list of available backends from which to dynamically choose on each request to the `provider` (if no `backend` is explicitly input). If `None` it defaults to `QiskitBitGenerator.default_backend_filter`.\n",
    "- **max_bits_per_request**: *int = 0* <br/>\n",
    "  A limit to the number of bits to be retrieved on each request to any Qiskit Backend. If less than one, no bound will be applied and the maximum allowed number of bits will be retrieved.\n",
    "- **ISRAW32**: *Final[bool] = False* <br/>\n",
    "  Toggle 32-bit BitGenerator mode. If `False` the BitGenerator will be 64-bit. This determines the number of bits returned by NumPy's `random_raw()` method, and the default number of bits to output on `random_uint()` and `random_double()`. Once an object is instantiated, this cannot be overridden."
   ]
  },
  {
   "cell_type": "code",
   "execution_count": 3,
   "metadata": {},
   "outputs": [
    {
     "name": "stderr",
     "output_type": "stream",
     "text": [
      "/Users/pedrorrivero/Desktop/210310_QRAND/.venv/lib/python3.9/site-packages/qiskit/providers/ibmq/ibmqfactory.py:192: UserWarning: Timestamps in IBMQ backend properties, jobs, and job results are all now in local time instead of UTC.\n",
      "  warnings.warn('Timestamps in IBMQ backend properties, jobs, and job results '\n"
     ]
    }
   ],
   "source": [
    "provider = IBMQ.load_account()\n",
    "#bitgen = QiskitBitGenerator(provider)\n",
    "bitgen = QiskitBitGenerator()"
   ]
  },
  {
   "cell_type": "markdown",
   "metadata": {},
   "source": [
    "### PUBLIC PROPERTIES\n",
    "- **BITS**: *Final[int]* <br/>\n",
    "  Either 32 or 64. The number of bits output by NumPy's `random_raw()` method. Final, it cannot be modified after instantiation through the ISRAW32 argument.\n",
    "- **state**: *dict* <br/>\n",
    "  Parsed information about the current state of the QiskitBitGenerator."
   ]
  },
  {
   "cell_type": "code",
   "execution_count": 4,
   "metadata": {},
   "outputs": [
    {
     "name": "stdout",
     "output_type": "stream",
     "text": [
      "State:\n",
      "{\n",
      "    \"BITS\": 64,\n",
      "    \"job_config\": {\n",
      "        \"max_bits_per_request\": null,\n",
      "        \"bits_per_request\": 1572864,\n",
      "        \"n_qubits\": 24,\n",
      "        \"shots\": 65536,\n",
      "        \"experiments\": 1\n",
      "    },\n",
      "    \"backend_config\": {\n",
      "        \"backend_name\": \"qasm_simulator\",\n",
      "        \"credits_required\": false,\n",
      "        \"local\": true,\n",
      "        \"n_qubits\": 24,\n",
      "        \"simulator\": true\n",
      "    },\n",
      "    \"bitcache\": {\n",
      "        \"size\": 0\n",
      "    }\n",
      "}\n"
     ]
    }
   ],
   "source": [
    "from json import dumps\n",
    "print(f\"State:\\n{dumps(bitgen.state, indent=4)}\")"
   ]
  },
  {
   "cell_type": "markdown",
   "metadata": {},
   "source": [
    "### STATE SETTER\n",
    "- **set_state** *(self, provider: Optional[Provider] = None, backend: Optional[Backend] = None, backend_filter: Optional[BackendFilter] = None, max_bits_per_request: Optional[int] = None) -> bool*: <br/>\n",
    "  Override constructor arguments. Any change must be explicitly passed as input (i.e. not `None`).\n",
    "  - ARGUMENTS\n",
    "    - *provider*: Optional[Provider] = None <br/>\n",
    "      Same as constructor.\n",
    "    - *backend*: Optional[Backend] = None <br/>\n",
    "      Same as constructor.\n",
    "    - *backend_filter*: Optional[BackendFilter] = None <br/>\n",
    "      Same as constructor.\n",
    "    - *max_bits_per_request*: Optional[int] = None <br/>\n",
    "      Same as constructor.\n",
    "  - RETURNS\n",
    "    - *out*: bool <br/>\n",
    "      `True` if any changes were made, `False` otherwise."
   ]
  },
  {
   "cell_type": "code",
   "execution_count": 5,
   "metadata": {},
   "outputs": [
    {
     "name": "stdout",
     "output_type": "stream",
     "text": [
      "State:\n",
      "{\n",
      "    \"BITS\": 64,\n",
      "    \"job_config\": {\n",
      "        \"max_bits_per_request\": 1000000,\n",
      "        \"bits_per_request\": 999984,\n",
      "        \"n_qubits\": 24,\n",
      "        \"shots\": 41666,\n",
      "        \"experiments\": 1\n",
      "    },\n",
      "    \"backend_config\": {\n",
      "        \"backend_name\": \"qasm_simulator\",\n",
      "        \"credits_required\": false,\n",
      "        \"local\": true,\n",
      "        \"n_qubits\": 24,\n",
      "        \"simulator\": true\n",
      "    },\n",
      "    \"bitcache\": {\n",
      "        \"size\": 0\n",
      "    }\n",
      "}\n"
     ]
    }
   ],
   "source": [
    "bitgen.set_state(max_bits_per_request=1000000)\n",
    "print(f\"State:\\n{dumps(bitgen.state, indent=4)}\")"
   ]
  },
  {
   "cell_type": "markdown",
   "metadata": {},
   "source": [
    "### BIT CACHE\n",
    "- **load_cache** *(self, bitstring: str, flush: bool = False) -> bool*: <br/>\n",
    "  Load cache contents from bitstring.\n",
    "  - ARGUMENTS\n",
    "    - *bitstring*: str <br/>\n",
    "      The bitstring to load to cache.\n",
    "    - *flush*: bool = False <br/>\n",
    "      If `True` erase cache before loading.\n",
    "  - RETURNS\n",
    "    - *out*: bool <br/>\n",
    "      `True` if succeeds, `False` otherwise.\n",
    "  - RAISES\n",
    "    - *TypeError* <br/>\n",
    "      If input bitstring is not str\n",
    "    - *ValueError* <br/>\n",
    "      If input bitstring is not a valid bitstring"
   ]
  },
  {
   "cell_type": "code",
   "execution_count": 6,
   "metadata": {},
   "outputs": [
    {
     "name": "stdout",
     "output_type": "stream",
     "text": [
      "bitcache:\n",
      "{\n",
      "    \"size\": 24\n",
      "}\n"
     ]
    }
   ],
   "source": [
    "bitgen.load_cache('111010010101011001010010') # Loading 24 bits\n",
    "print(f\"bitcache:\\n{dumps(bitgen.state['bitcache'], indent=4)}\")"
   ]
  },
  {
   "cell_type": "markdown",
   "metadata": {},
   "source": [
    "### BIT CACHE\n",
    "- **dump_cache** *(self, flush: bool = False) -> str*: <br/>\n",
    "  Returns all the contents stored in the cache.\n",
    "  - ARGUMENTS\n",
    "    - *flush*: bool = False <br/>\n",
    "      If `True` erase the cache after dumping.\n",
    "  - RETURNS\n",
    "    - *out*: str <br/>\n",
    "      The bitstring stored in cache.\n",
    "- **flush_cache** *(self) -> bool*: <br/>\n",
    "  Erase the cache.\n",
    "  - RETURNS\n",
    "    - *out*: bool <br/>\n",
    "      `True` if succeeds, `False` otherwise."
   ]
  },
  {
   "cell_type": "code",
   "execution_count": 7,
   "metadata": {},
   "outputs": [
    {
     "name": "stdout",
     "output_type": "stream",
     "text": [
      "dump: 111010010101011001010010\n",
      "Random Bitstring: 1110\n",
      "bitcache:\n",
      "{\n",
      "    \"size\": 20\n",
      "}\n",
      "dump: 10010101011001010010\n",
      "bitcache:\n",
      "{\n",
      "    \"size\": 0\n",
      "}\n"
     ]
    }
   ],
   "source": [
    "print(f\"dump: {bitgen.dump_cache()}\")\n",
    "print(f\"Random Bitstring: {bitgen.random_bitstring(4)}\")\n",
    "print(f\"bitcache:\\n{dumps(bitgen.state['bitcache'], indent=4)}\")\n",
    "print(f\"dump: {bitgen.dump_cache()}\")\n",
    "bitgen.flush_cache()\n",
    "print(f\"bitcache:\\n{dumps(bitgen.state['bitcache'], indent=4)}\")"
   ]
  },
  {
   "cell_type": "markdown",
   "metadata": {},
   "source": [
    "### RANDOM GENERATION\n",
    "- **random_bitstring** *(self, n_bits: int = 0) -> str*: <br/>\n",
    "  Returns a random bitstring of a given lenght.\n",
    "  - ARGUMENTS\n",
    "    - *n_bits*: int = 0 <br/>\n",
    "      Number of bits to retrieve. If less than one it defaults to the raw number of bits for the instance QiskitBitGenerator (i.e. 32 or 64).\n",
    "  - RETURNS\n",
    "    - *out*: str <br/>\n",
    "      Bitstring of lenght `n_bits`.\n",
    "- **random_double** *(self, n: float = 1) -> float*: <br/>\n",
    "  Returns a random double from a uniform distribution in the range [0,n). Defaults to [0,1).\n",
    "  - ARGUMENTS\n",
    "    - *n*: float = 1 <br/>\n",
    "      Size of the range [0,n) from which to draw the random number.\n",
    "  - RETURNS\n",
    "    - *out*: float <br/>\n",
    "      Random float in the range [0,n).\n",
    "- **random_raw** *(self) -> int*: <br/>\n",
    "  Returns a random unsigned int of either 32 or 64 bits.\n",
    "  - RETURNS\n",
    "    - *out*: int <br/>\n",
    "      Unsigned int of either 32 or 64 bits.\n",
    "- **random_uint** *(self, n_bits: int = 0) -> int*: <br/>\n",
    "  Returns a random unsigned int of a given size in bits.\n",
    "  - ARGUMENTS\n",
    "    - *n_bits*: int = 0 <br/>\n",
    "      Number of bits to retrieve. If less than one it defaults to the raw number of bits for the instance QiskitBitGenerator (i.e. 32 or 64).\n",
    "  - RETURNS\n",
    "    - *out*: int <br/>\n",
    "      Unsigned int of `n_bits` bits."
   ]
  },
  {
   "cell_type": "code",
   "execution_count": 8,
   "metadata": {
    "scrolled": true
   },
   "outputs": [
    {
     "name": "stdout",
     "output_type": "stream",
     "text": [
      "Random Raw: 13722587822689101689\n",
      "Random Bitstring: 0001101110110110000011111000100111010001101110101111010101010111\n",
      "Random Unsigned Int: 17033090633511344387\n",
      "Random Double: 0.7020323614061412\n"
     ]
    }
   ],
   "source": [
    "print(f\"Random Raw: {bitgen.random_raw()}\")\n",
    "print(f\"Random Bitstring: {bitgen.random_bitstring()}\")\n",
    "print(f\"Random Unsigned Int: {bitgen.random_uint()}\")\n",
    "print(f\"Random Double: {bitgen.random_double()}\")"
   ]
  },
  {
   "cell_type": "markdown",
   "metadata": {},
   "source": [
    "## Qrng\n",
    "An integrated implementation of the QRNG PyPI package which makes use of QRAND's enhanced random bit generation and caching capabilities."
   ]
  },
  {
   "cell_type": "code",
   "execution_count": 9,
   "metadata": {},
   "outputs": [],
   "source": [
    "qrng = Qrng(bitgen)"
   ]
  },
  {
   "cell_type": "code",
   "execution_count": 10,
   "metadata": {},
   "outputs": [
    {
     "name": "stdout",
     "output_type": "stream",
     "text": [
      "Random complex: (0.9414973258972168+0.804682731628418j)\n",
      "Random complex from polar: (0.179934525004025+1.8482485313497816j)\n",
      "Random double: 0.4238922520880293\n",
      "Random integer: -2\n"
     ]
    }
   ],
   "source": [
    "print(f\"Random complex: {qrng.get_random_complex_rect()}\")\n",
    "print(f\"Random complex from polar: {qrng.get_random_complex_polar(2, 3.14)}\")\n",
    "print(f\"Random double: {qrng.get_random_double(-0.1, 1.4)}\")\n",
    "print(f\"Random integer: {qrng.get_random_int(-2, 5)}\")"
   ]
  },
  {
   "cell_type": "markdown",
   "metadata": {},
   "source": [
    "## Numpy interface"
   ]
  },
  {
   "cell_type": "code",
   "execution_count": 11,
   "metadata": {},
   "outputs": [],
   "source": [
    "# NumPy generator object\n",
    "gen = Generator(bitgen)"
   ]
  },
  {
   "cell_type": "code",
   "execution_count": 12,
   "metadata": {},
   "outputs": [
    {
     "name": "stdout",
     "output_type": "stream",
     "text": [
      "Random Binomial: 1\n",
      "Random Exponential: 1.2132634294980102\n",
      "Random Logistic: 0.6484377113221256\n",
      "Random Poisson: 0\n",
      "Random Std. Normal: 0.8463872270806474\n",
      "Random Triangular: 0.2033479858814563\n"
     ]
    }
   ],
   "source": [
    "print(f\"Random Binomial: {gen.binomial(4, 1/4)}\")\n",
    "print(f\"Random Exponential: {gen.exponential()}\")\n",
    "print(f\"Random Logistic: {gen.logistic()}\")\n",
    "print(f\"Random Poisson: {gen.poisson()}\")\n",
    "print(f\"Random Std. Normal: {gen.standard_normal()}\")\n",
    "print(f\"Random Triangular: {gen.triangular(-1, 0, 1)}\")"
   ]
  },
  {
   "cell_type": "code",
   "execution_count": 13,
   "metadata": {},
   "outputs": [],
   "source": [
    "from matplotlib import pyplot as plt\n",
    "import pandas as pd"
   ]
  },
  {
   "cell_type": "code",
   "execution_count": 14,
   "metadata": {},
   "outputs": [
    {
     "data": {
      "text/plain": [
       "<AxesSubplot:ylabel='Frequency'>"
      ]
     },
     "execution_count": 14,
     "metadata": {},
     "output_type": "execute_result"
    },
    {
     "data": {
      "image/png": "[encoded data removed]",
      "text/plain": [
       "<Figure size 432x288 with 1 Axes>"
      ]
     },
     "metadata": {
      "needs_background": "light"
     },
     "output_type": "display_data"
    }
   ],
   "source": [
    "# GAUSSIAN\n",
    "samples = pd.Series(gen.normal(0, 10, 4000))\n",
    "samples.plot.hist(grid=True, bins=20, rwidth=0.9, color='blue')"
   ]
  },
  {
   "cell_type": "code",
   "execution_count": 15,
   "metadata": {},
   "outputs": [
    {
     "data": {
      "text/plain": [
       "<AxesSubplot:ylabel='Frequency'>"
      ]
     },
     "execution_count": 15,
     "metadata": {},
     "output_type": "execute_result"
    },
    {
     "data": {
      "image/png": "[encoded data removed]",
      "text/plain": [
       "<Figure size 432x288 with 1 Axes>"
      ]
     },
     "metadata": {
      "needs_background": "light"
     },
     "output_type": "display_data"
    }
   ],
   "source": [
    "# PARETO\n",
    "samples = pd.Series(gen.pareto(400, 4000))\n",
    "samples.plot.hist(grid=True, bins=20, rwidth=0.9, color='red')"
   ]
  },
  {
   "cell_type": "code",
   "execution_count": 16,
   "metadata": {},
   "outputs": [
    {
     "data": {
      "text/plain": [
       "<AxesSubplot:ylabel='Frequency'>"
      ]
     },
     "execution_count": 16,
     "metadata": {},
     "output_type": "execute_result"
    },
    {
     "data": {
      "image/png": "[encoded data removed]",
      "text/plain": [
       "<Figure size 432x288 with 1 Axes>"
      ]
     },
     "metadata": {
      "needs_background": "light"
     },
     "output_type": "display_data"
    }
   ],
   "source": [
    "# TRIANGULAR\n",
    "samples = pd.Series(gen.triangular(-4, 0, 4, 4000))\n",
    "samples.plot.hist(grid=True, bins=20, rwidth=0.9, color='green')"
   ]
  },
  {
   "cell_type": "code",
   "execution_count": 17,
   "metadata": {},
   "outputs": [
    {
     "name": "stdout",
     "output_type": "stream",
     "text": [
      "State:\n",
      "{\n",
      "    \"BITS\": 64,\n",
      "    \"job_config\": {\n",
      "        \"max_bits_per_request\": 1000000,\n",
      "        \"bits_per_request\": 999984,\n",
      "        \"n_qubits\": 24,\n",
      "        \"shots\": 41666,\n",
      "        \"experiments\": 1\n",
      "    },\n",
      "    \"backend_config\": {\n",
      "        \"backend_name\": \"qasm_simulator\",\n",
      "        \"credits_required\": false,\n",
      "        \"local\": true,\n",
      "        \"n_qubits\": 24,\n",
      "        \"simulator\": true\n",
      "    },\n",
      "    \"bitcache\": {\n",
      "        \"size\": 218285\n",
      "    }\n",
      "}\n"
     ]
    }
   ],
   "source": [
    "print(f\"State:\\n{dumps(bitgen.state, indent=4)}\")"
   ]
  },
  {
   "cell_type": "markdown",
   "metadata": {},
   "source": [
    "Since $216173 < 256000 = 4000·64$ on the next call the bit generator will need to produce new random numbers."
   ]
  },
  {
   "cell_type": "code",
   "execution_count": 18,
   "metadata": {},
   "outputs": [
    {
     "data": {
      "text/plain": [
       "<AxesSubplot:ylabel='Frequency'>"
      ]
     },
     "execution_count": 18,
     "metadata": {},
     "output_type": "execute_result"
    },
    {
     "data": {
      "image/png": "[encoded data removed]",
      "text/plain": [
       "<Figure size 432x288 with 1 Axes>"
      ]
     },
     "metadata": {
      "needs_background": "light"
     },
     "output_type": "display_data"
    }
   ],
   "source": [
    "# UNIFOROM\n",
    "samples = pd.Series(gen.random(4000))\n",
    "samples.plot.hist(grid=True, bins=20, rwidth=0.9, color='gold')"
   ]
  },
  {
   "cell_type": "code",
   "execution_count": null,
   "metadata": {},
   "outputs": [],
   "source": []
  }
 ],
 "metadata": {
  "kernelspec": {
   "display_name": ".venv",
   "language": "python",
   "name": ".venv"
  },
  "language_info": {
   "codemirror_mode": {
    "name": "ipython",
    "version": 3
   },
   "file_extension": ".py",
   "mimetype": "text/x-python",
   "name": "python",
   "nbconvert_exporter": "python",
   "pygments_lexer": "ipython3",
   "version": "3.9.0"
  }
 },
 "nbformat": 4,
 "nbformat_minor": 4
}
